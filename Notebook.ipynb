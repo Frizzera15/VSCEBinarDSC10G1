{
 "cells": [
  {
   "cell_type": "code",
   "execution_count": 1,
   "metadata": {},
   "outputs": [
    {
     "name": "stdout",
     "output_type": "stream",
     "text": [
      "                                                   text sentimentlabel01\n",
      "3593  nomor resi nvidblapk170582868329 , user membel...         negative\n",
      "6066  menyenangkan deh kalau ketemu bapak-bapak prod...         positive\n"
     ]
    }
   ],
   "source": [
    "import pandas as pd\n",
    "import regex as re\n",
    "\n",
    "textdatabase_df = pd.read_csv('/Users/januardopanggabean/VSCE Platinum Challenge/train_preprocess.tsv.txt', sep='\\t', names=['text', 'sentimentlabel01'])\n",
    "\n",
    "#print(textdatabase_df.isna())\n",
    "\n",
    "#print(textdatabase_df)\n",
    "\n",
    "def lowercase(text):\n",
    "    return text.lower()\n",
    "\n",
    "word_to_find = 'user'\n",
    "\n",
    "filtered_df = textdatabase_df[textdatabase_df['text'].str.contains(word_to_find, case=False)]\n",
    "print(filtered_df)"
   ]
  },
  {
   "cell_type": "code",
   "execution_count": 2,
   "metadata": {},
   "outputs": [],
   "source": [
    "def lowercase(text):\n",
    "    return text.lower()\n",
    "\n",
    "def remove_unnecessary_char(text):\n",
    "    text = re.sub('\\n','', text)\n",
    "    #text = re.sub('rt','', text)\n",
    "    #text = re.sub('user','', text)\n",
    "    #text = re.sub('((www\\.[^\\s]+)|(https?://[^\\s]+)|(http?://[^\\s]+))',' ',text)\n",
    "    text = re.sub('  +',' ', text)\n",
    "    return text\n",
    "\n",
    "def remove_nonaplhanumeric(text):\n",
    "    text = re.sub('[^0-9a-zA-Z]+', ' ', text)\n",
    "    text = re.sub('  +',' ', text) \n",
    "    return text\n"
   ]
  },
  {
   "cell_type": "code",
   "execution_count": 5,
   "metadata": {},
   "outputs": [
    {
     "data": {
      "text/plain": [
       "'balista sushi tea resto dengan gaya rumahan klasik di jalan banda satu menu yang menarik perhatian saya yaitu batox manis batox manis bisa dibilang es krim biasa namun dengan penyajian yang unik es krim tersebut disajikan dengan batok kelapa sebagai wadah nya dan ada tambahan parutan kelapa yang membuat ada tambahan rasa creamy dan tropical sensation saat memakan es krim mantap positive'"
      ]
     },
     "execution_count": 5,
     "metadata": {},
     "output_type": "execute_result"
    }
   ],
   "source": [
    "remove_nonaplhanumeric('balista sushi tea , resto dengan gaya rumahan klasik di jalan banda . satu menu yang menarik perhatian saya , yaitu batox manis . batox manis bisa dibilang es krim biasa , namun dengan penyajian yang unik . es krim tersebut disajikan dengan batok kelapa sebagai wadah nya dan ada tambahan parutan kelapa yang membuat ada tambahan rasa creamy dan tropical sensation saat memakan es krim . mantap\tpositive'\n",
    ")"
   ]
  },
  {
   "cell_type": "code",
   "execution_count": null,
   "metadata": {},
   "outputs": [],
   "source": []
  }
 ],
 "metadata": {
  "kernelspec": {
   "display_name": "Python 3",
   "language": "python",
   "name": "python3"
  },
  "language_info": {
   "codemirror_mode": {
    "name": "ipython",
    "version": 3
   },
   "file_extension": ".py",
   "mimetype": "text/x-python",
   "name": "python",
   "nbconvert_exporter": "python",
   "pygments_lexer": "ipython3",
   "version": "3.11.3"
  },
  "orig_nbformat": 4
 },
 "nbformat": 4,
 "nbformat_minor": 2
}
